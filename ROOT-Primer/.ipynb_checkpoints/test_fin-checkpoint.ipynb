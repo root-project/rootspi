{
 "cells": [
  {
   "cell_type": "markdown",
   "metadata": {},
   "source": [
    "<section id=\"cd-timeline\">\n",
    "<div class=\"cd-timeline-block\" style=\"clear:both;\">\n",
    "<div class=\"cd-timeline-block-inner\" style=\"possition:relative;\">\n",
    "<div id=\"cd-timeline-content left\" style=\"possition:relative; width:45%; float:left; border-right:4px solid #1ED4E5; margin-left:5%; padding:2em 2.5%;\">\n",
    "<p>ksdjhvkdjfbnksfgjnsk'fgjb sfg fg sb ygn ety jey7 46yh jnw rtgbf tgb r fbg rtbf wr gvb wrtfg bwfr bw rg wrtbw gtb wrtb rtf brt bw rt \n",
    "bsf\n",
    "gb\n",
    "nsfgn\n",
    "sfg\n",
    "ndfg'</p>\n",
    "</div>\n",
    "<div id=\"cd-timeline-image\" style=\"position:relative;width:47.5%;float:left;padding-left:5%;clear:right;\">\n",
    "<img src=\"notebooks/images/rootlogo.png\" alt=\"Mountain View\" style=\"width:10%;position:absolute;left:0px;margin-left:-5%; \">\n",
    "</div>\n",
    "</div>\n",
    "</div>\n",
    "\n",
    "<div class=\"cd-timeline-block\" style=\"clear:both;\">\n",
    "<div class=\"cd-timeline-block-inner\" style=\"possition:relative;\">\n",
    "<div id=\"cd-timeline-image\" style=\"position:relative; width:50%; float:left;padding-right:5%;\">\n",
    "<img src=\"notebooks/images/rootlogo.png\" alt=\"Mountain View\" style=\"width:10%;position:absolute;right:0px;margin-right:-5%;z-index:100;\">\n",
    "</div>\n",
    "<div id=\"cd-timeline-content left\" style=\"possition:relative; width:50.5%; float:right; border-left:4px solid #1ED4E5; margin-left:-5%; padding:2em 2.5%;z-index:1;\">\n",
    "<p>ksdjhvkdjfbnksfgjnsk'fgjb sfg fg sb ygn ety jey7 46yh jnw rtgbf tgb r fbg rtbf wr gvb wrtfg bwfr bw rg wrtbw gtb wrtb rtf brt bw rt \n",
    "bsf\n",
    "gb\n",
    "nsfgn\n",
    "sfg\n",
    "ndfg'</p>\n",
    "</div>\n",
    "</div>\n",
    "</div>\n",
    "\n",
    "<div class=\"cd-timeline-block\" style=\"clear:both;\">\n",
    "<div class=\"cd-timeline-block-inner\" style=\"possition:relative;\">\n",
    "<div id=\"cd-timeline-content left\" style=\"possition:relative; width:45%; float:left; border-right:4px solid #1ED4E5; margin-left:5%; padding:2em 2.5%;\">\n",
    "<p>ksdjhvkdjfbnksfgjnsk'fgjb sfg fg sb ygn ety jey7 46yh jnw rtgbf tgb r fbg rtbf wr gvb wrtfg bwfr bw rg wrtbw gtb wrtb rtf brt bw rt \n",
    "bsf\n",
    "gb\n",
    "nsfgn\n",
    "sfg\n",
    "ndfg'</p>\n",
    "</div>\n",
    "<div id=\"cd-timeline-image\" style=\"position:relative;width:47.5%;float:left;padding-left:5%;clear:right;\">\n",
    "<img src=\"notebooks/images/rootlogo.png\" alt=\"Mountain View\" style=\"width:10%;position:absolute;left:0px;margin-left:-5%; \">\n",
    "</div>\n",
    "</div>\n",
    "</div>\n",
    "\n",
    "\n",
    "<div class=\"cd-timeline-block\" style=\"clear:both;\">\n",
    "<div class=\"cd-timeline-block-inner\" style=\"possition:relative;\">\n",
    "<div id=\"cd-timeline-image\" style=\"position:relative; width:50%; float:left;padding-right:5%;\">\n",
    "<img src=\"notebooks/images/rootlogo.png\" alt=\"Mountain View\" style=\"width:10%;position:absolute;right:0px;margin-right:-5%;z-index:100;\">\n",
    "</div>\n",
    "<div id=\"cd-timeline-content left\" style=\"possition:relative; width:50.5%; float:right; border-left:4px solid #1ED4E5; margin-left:-5%; padding:2em 2.5%;z-index:1;\">\n",
    "<p>ksdjhvkdjfbnksfgjnsk'fgjb sfg fg sb ygn ety jey7 46yh jnw rtgbf tgb r fbg rtbf wr gvb wrtfg bwfr bw rg wrtbw gtb wrtb rtf brt bw rt \n",
    "bsf\n",
    "gb\n",
    "nsfgn\n",
    "sfg\n",
    "ndfg'</p>\n",
    "</div>\n",
    "</div>\n",
    "</div>\n",
    "\n",
    "</section>"
   ]
  },
  {
   "cell_type": "code",
   "execution_count": null,
   "metadata": {
    "collapsed": true
   },
   "outputs": [],
   "source": []
  },
  {
   "cell_type": "code",
   "execution_count": null,
   "metadata": {
    "collapsed": true
   },
   "outputs": [],
   "source": []
  }
 ],
 "metadata": {
  "kernelspec": {
   "display_name": "Python 2",
   "language": "python",
   "name": "python2"
  },
  "language_info": {
   "codemirror_mode": {
    "name": "ipython",
    "version": 2
   },
   "file_extension": ".py",
   "mimetype": "text/x-python",
   "name": "python",
   "nbconvert_exporter": "python",
   "pygments_lexer": "ipython2",
   "version": "2.7.11"
  }
 },
 "nbformat": 4,
 "nbformat_minor": 0
}
